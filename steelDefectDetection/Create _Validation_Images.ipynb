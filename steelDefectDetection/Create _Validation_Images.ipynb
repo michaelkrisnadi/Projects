{
 "cells": [
  {
   "cell_type": "code",
   "execution_count": 4,
   "id": "8ef194b2",
   "metadata": {},
   "outputs": [],
   "source": [
    "import os\n",
    "import shutil\n",
    "import random"
   ]
  },
  {
   "cell_type": "code",
   "execution_count": 5,
   "id": "ca6fb2b9",
   "metadata": {},
   "outputs": [],
   "source": [
    "# Define classes and folders\n",
    "classes = ['crazing', 'inclusion', 'patches', 'pitted_surface', 'rolled-in_scale', 'scratches']\n",
    "source_annotations_folder = 'ANNOTATIONS'\n",
    "source_images_folder = 'IMAGES'\n",
    "destination_validation_images_folder = 'Validation_Images'\n",
    "destination_validation_annotations_folder = 'Validation_Annotations'"
   ]
  },
  {
   "cell_type": "code",
   "execution_count": 6,
   "id": "cf640df3",
   "metadata": {},
   "outputs": [],
   "source": [
    "# Ensure destination folders exist\n",
    "os.makedirs(destination_validation_images_folder, exist_ok=True)\n",
    "os.makedirs(destination_validation_annotations_folder, exist_ok=True)"
   ]
  },
  {
   "cell_type": "code",
   "execution_count": 7,
   "id": "3b06c5fd",
   "metadata": {},
   "outputs": [],
   "source": [
    "# Function to move files\n",
    "def move_files(class_name, file_numbers):\n",
    "    for number in file_numbers:\n",
    "        image_file_name = f\"{class_name}_{number}.jpg\"\n",
    "        annotation_file_name = f\"{class_name}_{number}.xml\"\n",
    "\n",
    "        source_image_path = os.path.join(source_images_folder, image_file_name)\n",
    "        source_annotation_path = os.path.join(source_annotations_folder, annotation_file_name)\n",
    "\n",
    "        destination_image_path = os.path.join(destination_validation_images_folder, image_file_name)\n",
    "        destination_annotation_path = os.path.join(destination_validation_annotations_folder, annotation_file_name)\n",
    "\n",
    "        # Move image and annotation files\n",
    "        if os.path.exists(source_image_path) and os.path.exists(source_annotation_path):\n",
    "            shutil.move(source_image_path, destination_image_path)\n",
    "            shutil.move(source_annotation_path, destination_annotation_path)\n",
    "        else:\n",
    "            print(f\"File not found for {class_name} number {number}\")"
   ]
  },
  {
   "cell_type": "code",
   "execution_count": 8,
   "id": "4aa74fdb",
   "metadata": {},
   "outputs": [
    {
     "name": "stdout",
     "output_type": "stream",
     "text": [
      "Files moved successfully.\n"
     ]
    }
   ],
   "source": [
    "# Main process\n",
    "for class_name in classes:\n",
    "    file_numbers = random.sample(range(1, 301), 5)  # Generate 5 unique random numbers\n",
    "    move_files(class_name, file_numbers)\n",
    "\n",
    "print(\"Files moved successfully.\")"
   ]
  },
  {
   "cell_type": "code",
   "execution_count": null,
   "id": "017249b2",
   "metadata": {},
   "outputs": [],
   "source": []
  }
 ],
 "metadata": {
  "kernelspec": {
   "display_name": "Python 3",
   "language": "python",
   "name": "python3"
  },
  "language_info": {
   "codemirror_mode": {
    "name": "ipython",
    "version": 3
   },
   "file_extension": ".py",
   "mimetype": "text/x-python",
   "name": "python",
   "nbconvert_exporter": "python",
   "pygments_lexer": "ipython3",
   "version": "3.7.10"
  }
 },
 "nbformat": 4,
 "nbformat_minor": 5
}
