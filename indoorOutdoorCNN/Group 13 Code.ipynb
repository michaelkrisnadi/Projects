{
  "cells": [
    {
      "cell_type": "markdown",
      "source": [
        "## **Group 13**"
      ],
      "metadata": {
        "id": "a1qC0oFpac5F"
      }
    },
    {
      "cell_type": "markdown",
      "metadata": {
        "id": "n42ZiLsjunbX"
      },
      "source": [
        "# ***Important***\n",
        "* Dataset must be compressed in .zip before loaded to the model\n",
        "  * Subfolders inside dataset folders: **indoor** and **outdoor** only, the model will manage the splitting of the data to train, test, validation\n",
        "\n",
        "* Change **[!unzip or ZipFile, data_dir, outdoor_dir]** to the name of the zip file containing the dataset"
      ]
    },
    {
      "cell_type": "code",
      "execution_count": 1,
      "metadata": {
        "id": "D_zhOEQUm20s"
      },
      "outputs": [],
      "source": [
        "import os\n",
        "import random\n",
        "import torch\n",
        "import zipfile  # For jupyter extract zip\n",
        "import torchvision.transforms as transforms\n",
        "from torchvision.datasets import ImageFolder  # To load the dataset\n",
        "from torch.utils.data import DataLoader, random_split\n",
        "import matplotlib.pyplot as plt\n",
        "from PIL import Image  # To change to .png\n",
        "import numpy as np\n",
        "\n",
        "# For split\n",
        "import shutil\n",
        "\n",
        "# For CNN model\n",
        "import torch.nn as nn\n",
        "import torch.optim as optim\n",
        "import torch.nn.functional as F\n",
        "\n",
        "# Performance metrics\n",
        "from sklearn.metrics import precision_score, recall_score, f1_score"
      ]
    },
    {
      "cell_type": "code",
      "source": [
        "device = torch.device(\"cuda\" if torch.cuda.is_available() else \"cpu\")\n",
        "if (torch.cuda.is_available()):\n",
        "  print(\"CUDA is being used\")\n",
        "else:\n",
        "  print(\"CUDA is not available, thus CPU is being used\")"
      ],
      "metadata": {
        "colab": {
          "base_uri": "https://localhost:8080/"
        },
        "id": "JPqrsrq0cpIJ",
        "outputId": "50901a88-21d3-4815-d62a-4e1fabfa1691"
      },
      "execution_count": 2,
      "outputs": [
        {
          "output_type": "stream",
          "name": "stdout",
          "text": [
            "CUDA is being used\n"
          ]
        }
      ]
    },
    {
      "cell_type": "code",
      "execution_count": 3,
      "metadata": {
        "id": "6LwQCZdRm-lF",
        "colab": {
          "base_uri": "https://localhost:8080/"
        },
        "outputId": "83f2219b-258b-48dd-ac0f-72f83e7ddbf4"
      },
      "outputs": [
        {
          "output_type": "stream",
          "name": "stdout",
          "text": [
            "Archive:  image_dataset.zip\n",
            "   creating: image_dataset/\n",
            "   creating: image_dataset/indoor/\n",
            "  inflating: image_dataset/indoor/1-resized.jpg  \n",
            "  inflating: image_dataset/indoor/10-resized.jpg  \n",
            "  inflating: image_dataset/indoor/11-resized.jpg  \n",
            "  inflating: image_dataset/indoor/111-resized.jpg  \n",
            "  inflating: image_dataset/indoor/112-resized.jpg  \n",
            "  inflating: image_dataset/indoor/1123-resized.jpg  \n",
            "  inflating: image_dataset/indoor/113-resized.jpg  \n",
            "  inflating: image_dataset/indoor/114-resized.jpg  \n",
            "  inflating: image_dataset/indoor/12-resized.jpg  \n",
            "  inflating: image_dataset/indoor/121-resized.jpg  \n",
            "  inflating: image_dataset/indoor/123-resized.jpg  \n",
            "  inflating: image_dataset/indoor/13-resized.jpg  \n",
            "  inflating: image_dataset/indoor/14-resized.jpg  \n",
            "  inflating: image_dataset/indoor/143-resized.jpg  \n",
            "  inflating: image_dataset/indoor/15-resized.jpg  \n",
            "  inflating: image_dataset/indoor/16-resized.jpg  \n",
            "  inflating: image_dataset/indoor/166-resized.jpg  \n",
            "  inflating: image_dataset/indoor/17-resized.jpg  \n",
            "  inflating: image_dataset/indoor/18-resized.jpg  \n",
            "  inflating: image_dataset/indoor/19-resized.jpg  \n",
            "  inflating: image_dataset/indoor/2-resized.jpg  \n",
            "  inflating: image_dataset/indoor/20-resized.jpg  \n",
            "  inflating: image_dataset/indoor/20230507_221839-resized.jpg  \n",
            "  inflating: image_dataset/indoor/20230524_164526-resized.jpg  \n",
            "  inflating: image_dataset/indoor/20230529_121634-resized.jpg  \n",
            " extracting: image_dataset/indoor/20230530_134949-resized.png  \n",
            " extracting: image_dataset/indoor/20230530_143346-resized.png  \n",
            " extracting: image_dataset/indoor/20230530_143347-resized.png  \n",
            " extracting: image_dataset/indoor/20230530_143348-resized.png  \n",
            " extracting: image_dataset/indoor/20230530_143349-resized.png  \n",
            " extracting: image_dataset/indoor/20230530_143350-resized.png  \n",
            " extracting: image_dataset/indoor/20230530_143352-resized.png  \n",
            " extracting: image_dataset/indoor/20230530_143354-resized.png  \n",
            " extracting: image_dataset/indoor/20230530_143357-resized.png  \n",
            " extracting: image_dataset/indoor/20230530_143358-resized.png  \n",
            " extracting: image_dataset/indoor/20230530_143400-resized.png  \n",
            " extracting: image_dataset/indoor/20230530_143402-resized.png  \n",
            " extracting: image_dataset/indoor/20230530_143404-resized.png  \n",
            " extracting: image_dataset/indoor/20230530_143407-resized.png  \n",
            " extracting: image_dataset/indoor/20230530_143409-resized.png  \n",
            " extracting: image_dataset/indoor/20230530_143416-resized.png  \n",
            " extracting: image_dataset/indoor/20230530_143417-resized.png  \n",
            " extracting: image_dataset/indoor/20230530_143423-resized.png  \n",
            " extracting: image_dataset/indoor/20230530_143425-resized.png  \n",
            " extracting: image_dataset/indoor/20230530_143426-resized.png  \n",
            " extracting: image_dataset/indoor/20230530_145516-resized.png  \n",
            " extracting: image_dataset/indoor/20230530_145522-resized.png  \n",
            " extracting: image_dataset/indoor/20230530_145524-resized.png  \n",
            " extracting: image_dataset/indoor/20230530_145526-resized.png  \n",
            " extracting: image_dataset/indoor/20230530_150148-resized.png  \n",
            " extracting: image_dataset/indoor/20230530_150151-resized.png  \n",
            " extracting: image_dataset/indoor/20230530_150158-resized.png  \n",
            " extracting: image_dataset/indoor/20230530_150203-resized.png  \n",
            " extracting: image_dataset/indoor/20230530_150208-resized.png  \n",
            " extracting: image_dataset/indoor/20230530_150210-resized.png  \n",
            " extracting: image_dataset/indoor/20230530_150212-resized.png  \n",
            " extracting: image_dataset/indoor/20230531_114648-resized.png  \n",
            " extracting: image_dataset/indoor/20230531_114652-resized.png  \n",
            " extracting: image_dataset/indoor/20230531_114706-resized.png  \n",
            " extracting: image_dataset/indoor/20230531_114708-resized.png  \n",
            " extracting: image_dataset/indoor/20230531_114714-resized.png  \n",
            " extracting: image_dataset/indoor/20230531_114718-resized.png  \n",
            " extracting: image_dataset/indoor/20230531_114719-resized.png  \n",
            " extracting: image_dataset/indoor/20230531_114726-resized.png  \n",
            " extracting: image_dataset/indoor/20230531_114739-resized.png  \n",
            " extracting: image_dataset/indoor/20230531_114741-resized.png  \n",
            " extracting: image_dataset/indoor/20230531_114743-resized.png  \n",
            " extracting: image_dataset/indoor/20230531_114746-resized.png  \n",
            " extracting: image_dataset/indoor/20230531_114800-resized.png  \n",
            " extracting: image_dataset/indoor/20230531_114803-resized.png  \n",
            " extracting: image_dataset/indoor/20230531_114813-resized.png  \n",
            " extracting: image_dataset/indoor/20230531_114819-resized.png  \n",
            " extracting: image_dataset/indoor/20230531_114820-resized.png  \n",
            " extracting: image_dataset/indoor/20230531_114823-resized.png  \n",
            " extracting: image_dataset/indoor/20230531_114827-resized.png  \n",
            " extracting: image_dataset/indoor/20230531_114828-resized.png  \n",
            " extracting: image_dataset/indoor/20230531_114833-resized.png  \n",
            " extracting: image_dataset/indoor/20230531_114834-resized.png  \n",
            " extracting: image_dataset/indoor/20230531_114840-resized.png  \n",
            " extracting: image_dataset/indoor/20230531_114845-resized.png  \n",
            " extracting: image_dataset/indoor/20230531_114854-resized.png  \n",
            " extracting: image_dataset/indoor/20230531_114857-resized.png  \n",
            " extracting: image_dataset/indoor/20230531_114900-resized.png  \n",
            " extracting: image_dataset/indoor/20230531_114910-resized.png  \n",
            " extracting: image_dataset/indoor/20230531_114928-resized.png  \n",
            " extracting: image_dataset/indoor/20230601_120436-resized.png  \n",
            " extracting: image_dataset/indoor/20230601_120439-resized.png  \n",
            " extracting: image_dataset/indoor/20230601_120443-resized.png  \n",
            " extracting: image_dataset/indoor/20230601_152917-resized.png  \n",
            " extracting: image_dataset/indoor/20230601_152920-resized.png  \n",
            " extracting: image_dataset/indoor/20230601_152922-resized.png  \n",
            " extracting: image_dataset/indoor/20230601_152942-resized.png  \n",
            " extracting: image_dataset/indoor/20230601_152944-resized.png  \n",
            " extracting: image_dataset/indoor/20230601_152948-resized.png  \n",
            " extracting: image_dataset/indoor/20230601_152950-resized.png  \n",
            " extracting: image_dataset/indoor/20230601_153001-resized.png  \n",
            " extracting: image_dataset/indoor/20230601_153003-resized.png  \n",
            " extracting: image_dataset/indoor/20230601_153030-resized.png  \n",
            " extracting: image_dataset/indoor/20230601_153031-resized.png  \n",
            " extracting: image_dataset/indoor/20230601_154408-resized.png  \n",
            " extracting: image_dataset/indoor/20230601_154409-resized.png  \n",
            " extracting: image_dataset/indoor/20230601_154410-resized.png  \n",
            " extracting: image_dataset/indoor/20230601_154411-resized.png  \n",
            " extracting: image_dataset/indoor/20230601_154414-resized.png  \n",
            " extracting: image_dataset/indoor/20230601_154415-resized.png  \n",
            " extracting: image_dataset/indoor/20230601_154416-resized.png  \n",
            " extracting: image_dataset/indoor/20230601_154417-resized.png  \n",
            " extracting: image_dataset/indoor/20230601_154419-resized.png  \n",
            " extracting: image_dataset/indoor/20230601_154420-resized.png  \n",
            " extracting: image_dataset/indoor/20230601_154422-resized.png  \n",
            " extracting: image_dataset/indoor/20230601_154424-resized.png  \n",
            " extracting: image_dataset/indoor/20230601_154426-resized.png  \n",
            " extracting: image_dataset/indoor/20230601_154455-resized.png  \n",
            " extracting: image_dataset/indoor/20230601_154521-resized.png  \n",
            " extracting: image_dataset/indoor/20230601_154545-resized.png  \n",
            " extracting: image_dataset/indoor/20230601_154548-resized.png  \n",
            " extracting: image_dataset/indoor/20230601_154647-resized.png  \n",
            " extracting: image_dataset/indoor/20230601_154650-resized.png  \n",
            " extracting: image_dataset/indoor/20230601_154652-resized.png  \n",
            " extracting: image_dataset/indoor/20230601_155103-resized.png  \n",
            " extracting: image_dataset/indoor/20230601_155105-resized.png  \n",
            "  inflating: image_dataset/indoor/20230601_160928-resized.jpg  \n",
            "  inflating: image_dataset/indoor/20230601_170609-resized.jpg  \n",
            "  inflating: image_dataset/indoor/20230601_170634-resized.jpg  \n",
            "  inflating: image_dataset/indoor/20230603_125607-resized.jpg  \n",
            "  inflating: image_dataset/indoor/20230603_125610-resized.jpg  \n",
            "  inflating: image_dataset/indoor/20230606_090234-resized.jpg  \n",
            "  inflating: image_dataset/indoor/20230606_090239-resized.jpg  \n",
            "  inflating: image_dataset/indoor/20230606_090241-resized.jpg  \n",
            "  inflating: image_dataset/indoor/20230606_090242-resized.jpg  \n",
            "  inflating: image_dataset/indoor/20230606_122131-resized.jpg  \n",
            "  inflating: image_dataset/indoor/20230606_122136-resized.jpg  \n",
            "  inflating: image_dataset/indoor/20230606_122139-resized.jpg  \n",
            "  inflating: image_dataset/indoor/20230606_122143-resized.jpg  \n",
            "  inflating: image_dataset/indoor/20230606_122145-resized.jpg  \n",
            "  inflating: image_dataset/indoor/20230606_152327-resized.jpg  \n",
            "  inflating: image_dataset/indoor/20230606_153739-resized.jpg  \n",
            "  inflating: image_dataset/indoor/20230606_184151-resized.jpg  \n",
            "  inflating: image_dataset/indoor/20230606_184154-resized.jpg  \n",
            "  inflating: image_dataset/indoor/20230606_184156-resized.jpg  \n",
            "  inflating: image_dataset/indoor/20230606_184159-resized.jpg  \n",
            "  inflating: image_dataset/indoor/20230606_184201-resized.jpg  \n",
            "  inflating: image_dataset/indoor/20230606_184259-resized.jpg  \n",
            "  inflating: image_dataset/indoor/20230606_184301-resized.jpg  \n",
            "  inflating: image_dataset/indoor/20230606_184303-resized.jpg  \n",
            "  inflating: image_dataset/indoor/20230606_184305-resized.jpg  \n",
            "  inflating: image_dataset/indoor/20230606_184307-resized.jpg  \n",
            "  inflating: image_dataset/indoor/20230606_184446-resized.jpg  \n",
            "  inflating: image_dataset/indoor/20230606_184533-resized.jpg  \n",
            "  inflating: image_dataset/indoor/20230606_184536-resized.jpg  \n",
            "  inflating: image_dataset/indoor/20230606_184539-resized.jpg  \n",
            "  inflating: image_dataset/indoor/20230606_184542-resized.jpg  \n",
            "  inflating: image_dataset/indoor/20230606_184545-resized.jpg  \n",
            "  inflating: image_dataset/indoor/20230606_184547-resized.jpg  \n",
            "  inflating: image_dataset/indoor/20230606_184550-resized.jpg  \n",
            "  inflating: image_dataset/indoor/20230607_194748-resized.jpg  \n",
            "  inflating: image_dataset/indoor/20230607_194759-resized.jpg  \n",
            "  inflating: image_dataset/indoor/20230607_194814-resized.jpg  \n",
            "  inflating: image_dataset/indoor/20230607_195016-resized.jpg  \n",
            "  inflating: image_dataset/indoor/20230610_110859-resized.jpg  \n",
            "  inflating: image_dataset/indoor/20230610_110901-resized.jpg  \n",
            "  inflating: image_dataset/indoor/20230610_110905-resized.jpg  \n",
            "  inflating: image_dataset/indoor/20230614_171202-resized.jpg  \n",
            "  inflating: image_dataset/indoor/20230614_171204-resized.jpg  \n",
            "  inflating: image_dataset/indoor/20230614_171205-resized.jpg  \n",
            "  inflating: image_dataset/indoor/20230614_171207-resized.jpg  \n",
            "  inflating: image_dataset/indoor/20230614_171213-resized.jpg  \n",
            "  inflating: image_dataset/indoor/20230614_171217-resized.jpg  \n",
            "  inflating: image_dataset/indoor/20230614_171219-resized.jpg  \n",
            "  inflating: image_dataset/indoor/20230614_171222-resized.jpg  \n",
            "  inflating: image_dataset/indoor/20230614_171226-resized.jpg  \n",
            "  inflating: image_dataset/indoor/20230614_171228-resized.jpg  \n",
            "  inflating: image_dataset/indoor/20230614_171232-resized.jpg  \n",
            "  inflating: image_dataset/indoor/20230614_171236-resized.jpg  \n",
            "  inflating: image_dataset/indoor/20230614_171238-resized.jpg  \n",
            "  inflating: image_dataset/indoor/20230614_171242-resized.jpg  \n",
            "  inflating: image_dataset/indoor/20230614_171244-resized.jpg  \n",
            "  inflating: image_dataset/indoor/20230614_171249-resized.jpg  \n",
            "  inflating: image_dataset/indoor/21-resized.jpg  \n",
            "  inflating: image_dataset/indoor/22-resized.jpg  \n",
            "  inflating: image_dataset/indoor/23-resized.jpg  \n",
            "  inflating: image_dataset/indoor/24-resized.jpg  \n",
            "  inflating: image_dataset/indoor/25-resized.jpg  \n",
            "  inflating: image_dataset/indoor/26-resized.jpg  \n",
            "  inflating: image_dataset/indoor/27-resized.jpg  \n",
            "  inflating: image_dataset/indoor/28-resized.jpg  \n",
            "  inflating: image_dataset/indoor/29-resized.jpg  \n",
            "  inflating: image_dataset/indoor/3-resized.jpg  \n",
            "  inflating: image_dataset/indoor/30-resized.jpg  \n",
            "  inflating: image_dataset/indoor/31-resized.jpg  \n",
            "  inflating: image_dataset/indoor/3213-resized.jpg  \n",
            "  inflating: image_dataset/indoor/4-resized.jpg  \n",
            "  inflating: image_dataset/indoor/453-resized.jpg  \n",
            "  inflating: image_dataset/indoor/5-resized.jpg  \n",
            "  inflating: image_dataset/indoor/51-resized.jpg  \n",
            "  inflating: image_dataset/indoor/6-resized.jpg  \n",
            "  inflating: image_dataset/indoor/7-resized.jpg  \n",
            "  inflating: image_dataset/indoor/8-resized.jpg  \n",
            "  inflating: image_dataset/indoor/9-resized.jpg  \n",
            "  inflating: image_dataset/indoor/CAm6wzN9qpVWtF4iDdH9QqMkl_su5Ct0P7w8AGzi_vY=_plaintext_638227661428154522.jpg  \n",
            "  inflating: image_dataset/indoor/f1nTuOtvhKj_V_8hBKaBYXxcQq__3Y9YT789w2I9svw=_plaintext_638227661427359381.jpg  \n",
            "  inflating: image_dataset/indoor/g82uwsZsqE4AWzoy3mxiKVlY-wp4d5mN6LN6MH65C4Y=_plaintext_638227661434583652.jpg  \n",
            "  inflating: image_dataset/indoor/IMG-20230619-WA0004.jpg  \n",
            "  inflating: image_dataset/indoor/IMG-20230619-WA0005.jpg  \n",
            "  inflating: image_dataset/indoor/IMG-20230619-WA0006.jpg  \n",
            "  inflating: image_dataset/indoor/IMG-20230619-WA0010.jpg  \n",
            "  inflating: image_dataset/indoor/IMG-20230619-WA0011.jpg  \n",
            "  inflating: image_dataset/indoor/IMG-20230619-WA0012.jpg  \n",
            "  inflating: image_dataset/indoor/IMG-20230619-WA0013.jpg  \n",
            "  inflating: image_dataset/indoor/IMG-20230619-WA0015.jpg  \n",
            "  inflating: image_dataset/indoor/IMG-20230619-WA0016.jpg  \n",
            "  inflating: image_dataset/indoor/IMG-20230619-WA0017.jpg  \n",
            "  inflating: image_dataset/indoor/IMG-20230619-WA0018.jpg  \n",
            "  inflating: image_dataset/indoor/IMG-20230619-WA0019.jpg  \n",
            "  inflating: image_dataset/indoor/IMG-20230619-WA0020.jpg  \n",
            "  inflating: image_dataset/indoor/IMG-20230619-WA0021.jpg  \n",
            "  inflating: image_dataset/indoor/IMG-20230619-WA0022.jpg  \n",
            "  inflating: image_dataset/indoor/IMG-20230619-WA0023.jpg  \n",
            "  inflating: image_dataset/indoor/IMG-20230619-WA0024.jpg  \n",
            "  inflating: image_dataset/indoor/IMG-20230619-WA0030.jpg  \n",
            "  inflating: image_dataset/indoor/IMG-20230619-WA0031.jpg  \n",
            "  inflating: image_dataset/indoor/IMG-20230619-WA0032.jpg  \n",
            "  inflating: image_dataset/indoor/IMG-20230619-WA0033.jpg  \n",
            "  inflating: image_dataset/indoor/IMG-20230619-WA0034.jpg  \n",
            "  inflating: image_dataset/indoor/IMG-20230619-WA0035.jpg  \n",
            "  inflating: image_dataset/indoor/IMG-20230619-WA0036.jpg  \n",
            "  inflating: image_dataset/indoor/IMG-20230619-WA0037.jpg  \n",
            "  inflating: image_dataset/indoor/IMG-20230619-WA0038.jpg  \n",
            "  inflating: image_dataset/indoor/IMG-20230619-WA0039.jpg  \n",
            "  inflating: image_dataset/indoor/IMG-20230619-WA0040.jpg  \n",
            "  inflating: image_dataset/indoor/IMG-20230619-WA0041.jpg  \n",
            "  inflating: image_dataset/indoor/IMG-20230619-WA0042.jpg  \n",
            "  inflating: image_dataset/indoor/IMG-20230619-WA0043.jpg  \n",
            "  inflating: image_dataset/indoor/IMG-20230619-WA0045.jpg  \n",
            "  inflating: image_dataset/indoor/IMG-20230619-WA0046.jpg  \n",
            "  inflating: image_dataset/indoor/IMG-20230619-WA0048.jpg  \n",
            "  inflating: image_dataset/indoor/IMG-20230619-WA0050.jpg  \n",
            "  inflating: image_dataset/indoor/IMG-20230619-WA0051.jpg  \n",
            "  inflating: image_dataset/indoor/IMG-20230619-WA0052.jpg  \n",
            "  inflating: image_dataset/indoor/IMG-20230619-WA0053.jpg  \n",
            "  inflating: image_dataset/indoor/IMG-20230619-WA0054.jpg  \n",
            "  inflating: image_dataset/indoor/IMG-20230619-WA0055.jpg  \n",
            "  inflating: image_dataset/indoor/IMG-20230619-WA0056.jpg  \n",
            "  inflating: image_dataset/indoor/IMG-20230619-WA0057.jpg  \n",
            "  inflating: image_dataset/indoor/IMG-20230619-WA0058.jpg  \n",
            "  inflating: image_dataset/indoor/IMG-20230619-WA0059.jpg  \n",
            "  inflating: image_dataset/indoor/IMG-20230619-WA0060.jpg  \n",
            "  inflating: image_dataset/indoor/IMG-20230619-WA0061.jpg  \n",
            "  inflating: image_dataset/indoor/IMG-20230619-WA0062.jpg  \n",
            "  inflating: image_dataset/indoor/IMG-20230619-WA0063.jpg  \n",
            "  inflating: image_dataset/indoor/IMG-20230619-WA0064.jpg  \n",
            "  inflating: image_dataset/indoor/IMG-20230619-WA0065.jpg  \n",
            "  inflating: image_dataset/indoor/IMG-20230619-WA0067.jpg  \n",
            "  inflating: image_dataset/indoor/IMG-20230619-WA0068.jpg  \n",
            "  inflating: image_dataset/indoor/IMG-20230619-WA0069.jpg  \n",
            "  inflating: image_dataset/indoor/IMG-20230619-WA0070.jpg  \n",
            "  inflating: image_dataset/indoor/IMG-20230619-WA0071.jpg  \n",
            "  inflating: image_dataset/indoor/IMG-20230619-WA0072.jpg  \n",
            "  inflating: image_dataset/indoor/IMG-20230619-WA0073.jpg  \n",
            "  inflating: image_dataset/indoor/IMG-20230619-WA0074.jpg  \n",
            "  inflating: image_dataset/indoor/IMG-20230619-WA0075.jpg  \n",
            "  inflating: image_dataset/indoor/IMG-20230619-WA0078.jpg  \n",
            "  inflating: image_dataset/indoor/IMG-20230619-WA0079.jpg  \n",
            "  inflating: image_dataset/indoor/IMG-20230619-WA0082.jpg  \n",
            "  inflating: image_dataset/indoor/IMG-20230619-WA0083.jpg  \n",
            "  inflating: image_dataset/indoor/IMG-20230619-WA0091.jpg  \n",
            "  inflating: image_dataset/indoor/IMG-20230619-WA0092.jpg  \n",
            "  inflating: image_dataset/indoor/IMG-20230619-WA0093.jpg  \n",
            "  inflating: image_dataset/indoor/IMG-20230619-WA0094.jpg  \n",
            "  inflating: image_dataset/indoor/IMG-20230619-WA0095.jpg  \n",
            "  inflating: image_dataset/indoor/IMG-20230619-WA0096.jpg  \n",
            "  inflating: image_dataset/indoor/IMG-20230619-WA0097.jpg  \n",
            "  inflating: image_dataset/indoor/IMG-20230619-WA0098.jpg  \n",
            "  inflating: image_dataset/indoor/IMG-20230619-WA0099.jpg  \n",
            "  inflating: image_dataset/indoor/IMG-20230619-WA0100.jpg  \n",
            "  inflating: image_dataset/indoor/IMG-20230619-WA0101.jpg  \n",
            "  inflating: image_dataset/indoor/IMG-20230619-WA0102.jpg  \n",
            "  inflating: image_dataset/indoor/IMG-20230619-WA0103.jpg  \n",
            "  inflating: image_dataset/indoor/IMG-20230619-WA0104.jpg  \n",
            "  inflating: image_dataset/indoor/IMG-20230619-WA0105.jpg  \n",
            "  inflating: image_dataset/indoor/IMG-20230619-WA0106.jpg  \n",
            "  inflating: image_dataset/indoor/IMG-20230619-WA0107.jpg  \n",
            "  inflating: image_dataset/indoor/IMG-20230619-WA0108.jpg  \n",
            "  inflating: image_dataset/indoor/IMG-20230619-WA0109.jpg  \n",
            "  inflating: image_dataset/indoor/IMG-20230619-WA0110.jpg  \n",
            "  inflating: image_dataset/indoor/IMG-20230619-WA0111.jpg  \n",
            "  inflating: image_dataset/indoor/IMG-20230619-WA0112.jpg  \n",
            "  inflating: image_dataset/indoor/IMG-20230619-WA0113.jpg  \n",
            "  inflating: image_dataset/indoor/IMG-20230619-WA0114.jpg  \n",
            "  inflating: image_dataset/indoor/IMG-20230619-WA0115.jpg  \n",
            "  inflating: image_dataset/indoor/IMG-20230619-WA0116.jpg  \n",
            "  inflating: image_dataset/indoor/IMG-20230619-WA0120.jpg  \n",
            "  inflating: image_dataset/indoor/IMG-20230619-WA0122.jpg  \n",
            "  inflating: image_dataset/indoor/IMG-20230619-WA0133.jpg  \n",
            "  inflating: image_dataset/indoor/IMG-20230619-WA0135.jpg  \n",
            "  inflating: image_dataset/indoor/IMG-20230619-WA0141.jpg  \n",
            "  inflating: image_dataset/indoor/IMG-20230619-WA0142.jpg  \n",
            "  inflating: image_dataset/indoor/IMG-20230619-WA0143.jpg  \n",
            "  inflating: image_dataset/indoor/IMG-20230619-WA0144.jpg  \n",
            "  inflating: image_dataset/indoor/IMG-20230619-WA0145.jpg  \n",
            "  inflating: image_dataset/indoor/IMG-20230619-WA0146.jpg  \n",
            "  inflating: image_dataset/indoor/IMG-20230619-WA0148.jpg  \n",
            "  inflating: image_dataset/indoor/IMG-20230619-WA0149.jpg  \n",
            "  inflating: image_dataset/indoor/IMG-20230619-WA0150.jpg  \n",
            "  inflating: image_dataset/indoor/IMG-20230619-WA0151.jpg  \n",
            "  inflating: image_dataset/indoor/IMG-20230619-WA0153.jpg  \n",
            "  inflating: image_dataset/indoor/IMG-20230619-WA0154.jpg  \n",
            " extracting: image_dataset/indoor/photo_2023-05-30_22-30-24-resized.png  \n",
            "  inflating: image_dataset/indoor/rKbYmxWgsFwCew3J9-rDKirVK9J-q-CBAFqFNPbBlWw=_plaintext_638227661431753527.jpg  \n",
            "  inflating: image_dataset/indoor/WhatsApp Image 2023-06-20 at 18.24.27-resized.jpg  \n",
            "   creating: image_dataset/outdoor/\n",
            "  inflating: image_dataset/outdoor/20230526_203109-resized.jpg  \n",
            "  inflating: image_dataset/outdoor/20230526_203901-resized.jpg  \n",
            "  inflating: image_dataset/outdoor/20230527_153435-resized.jpg  \n",
            "  inflating: image_dataset/outdoor/20230530_144126-resized.jpg  \n",
            "  inflating: image_dataset/outdoor/20230530_144128-resized.jpg  \n",
            "  inflating: image_dataset/outdoor/20230530_144131-resized.jpg  \n",
            "  inflating: image_dataset/outdoor/20230530_144145-resized.jpg  \n",
            "  inflating: image_dataset/outdoor/20230530_144148-resized.jpg  \n",
            "  inflating: image_dataset/outdoor/20230530_144244-resized.jpg  \n",
            "  inflating: image_dataset/outdoor/20230530_144247-resized.jpg  \n",
            "  inflating: image_dataset/outdoor/20230601_152929-resized.jpg  \n",
            "  inflating: image_dataset/outdoor/20230601_152933-resized.jpg  \n",
            "  inflating: image_dataset/outdoor/20230601_152935-resized.jpg  \n",
            "  inflating: image_dataset/outdoor/20230601_153017-resized.jpg  \n",
            "  inflating: image_dataset/outdoor/20230601_153018-resized.jpg  \n",
            "  inflating: image_dataset/outdoor/20230601_153038-resized.jpg  \n",
            "  inflating: image_dataset/outdoor/20230601_153040-resized.jpg  \n",
            "  inflating: image_dataset/outdoor/20230601_153042-resized.jpg  \n",
            "  inflating: image_dataset/outdoor/20230601_153144-resized.jpg  \n",
            "  inflating: image_dataset/outdoor/20230601_153146-resized.jpg  \n",
            "  inflating: image_dataset/outdoor/20230601_153147-resized.jpg  \n",
            "  inflating: image_dataset/outdoor/20230601_153218-resized.jpg  \n",
            "  inflating: image_dataset/outdoor/20230601_153220-resized.jpg  \n",
            "  inflating: image_dataset/outdoor/20230601_153221-resized.jpg  \n",
            "  inflating: image_dataset/outdoor/20230601_153222-resized.jpg  \n",
            "  inflating: image_dataset/outdoor/20230601_153224-resized.jpg  \n",
            "  inflating: image_dataset/outdoor/20230601_153226-resized.jpg  \n",
            "  inflating: image_dataset/outdoor/20230601_153359-resized.jpg  \n",
            "  inflating: image_dataset/outdoor/20230601_153401-resized.jpg  \n",
            "  inflating: image_dataset/outdoor/20230601_153403-resized.jpg  \n",
            "  inflating: image_dataset/outdoor/20230601_153414-resized.jpg  \n",
            "  inflating: image_dataset/outdoor/20230601_153429-resized.jpg  \n",
            "  inflating: image_dataset/outdoor/20230601_153434-resized.jpg  \n",
            "  inflating: image_dataset/outdoor/20230601_153436-resized.jpg  \n",
            "  inflating: image_dataset/outdoor/20230601_153437-resized.jpg  \n",
            "  inflating: image_dataset/outdoor/20230601_153440-resized.jpg  \n",
            "  inflating: image_dataset/outdoor/20230601_153441-resized.jpg  \n",
            "  inflating: image_dataset/outdoor/20230601_153444-resized.jpg  \n",
            "  inflating: image_dataset/outdoor/20230601_153454-resized.jpg  \n",
            "  inflating: image_dataset/outdoor/20230601_153458-resized.jpg  \n",
            "  inflating: image_dataset/outdoor/20230601_153514-resized.jpg  \n",
            "  inflating: image_dataset/outdoor/20230601_153551-resized.jpg  \n",
            "  inflating: image_dataset/outdoor/20230601_153601-resized.jpg  \n",
            "  inflating: image_dataset/outdoor/20230601_153604-resized.jpg  \n",
            "  inflating: image_dataset/outdoor/20230601_153606-resized.jpg  \n",
            "  inflating: image_dataset/outdoor/20230601_153609-resized.jpg  \n",
            "  inflating: image_dataset/outdoor/20230601_153616-resized.jpg  \n",
            "  inflating: image_dataset/outdoor/20230601_153619-resized.jpg  \n",
            "  inflating: image_dataset/outdoor/20230601_153647-resized.jpg  \n",
            "  inflating: image_dataset/outdoor/20230601_153649-resized.jpg  \n",
            "  inflating: image_dataset/outdoor/20230601_153650-resized.jpg  \n",
            "  inflating: image_dataset/outdoor/20230601_153652-resized.jpg  \n",
            "  inflating: image_dataset/outdoor/20230601_153656-resized.jpg  \n",
            "  inflating: image_dataset/outdoor/20230601_153657-resized.jpg  \n",
            "  inflating: image_dataset/outdoor/20230601_153701-resized.jpg  \n",
            "  inflating: image_dataset/outdoor/20230601_153702-resized.jpg  \n",
            "  inflating: image_dataset/outdoor/20230601_153705-resized.jpg  \n",
            "  inflating: image_dataset/outdoor/20230601_153707-resized.jpg  \n",
            "  inflating: image_dataset/outdoor/20230601_153708-resized.jpg  \n",
            "  inflating: image_dataset/outdoor/20230601_153709-resized.jpg  \n",
            "  inflating: image_dataset/outdoor/20230601_153713-resized.jpg  \n",
            "  inflating: image_dataset/outdoor/20230601_153726-resized.jpg  \n",
            "  inflating: image_dataset/outdoor/20230601_153728-resized.jpg  \n",
            "  inflating: image_dataset/outdoor/20230601_153746-resized.jpg  \n",
            "  inflating: image_dataset/outdoor/20230601_153747-resized.jpg  \n",
            "  inflating: image_dataset/outdoor/20230601_153834-resized.jpg  \n",
            "  inflating: image_dataset/outdoor/20230601_153836-resized.jpg  \n",
            "  inflating: image_dataset/outdoor/20230601_153837-resized.jpg  \n",
            "  inflating: image_dataset/outdoor/20230601_153840-resized.jpg  \n",
            "  inflating: image_dataset/outdoor/20230601_153841-resized.jpg  \n",
            "  inflating: image_dataset/outdoor/20230601_153844-resized.jpg  \n",
            "  inflating: image_dataset/outdoor/20230601_153846-resized.jpg  \n",
            "  inflating: image_dataset/outdoor/20230601_153852-resized.jpg  \n",
            "  inflating: image_dataset/outdoor/20230601_153901-resized.jpg  \n",
            "  inflating: image_dataset/outdoor/20230601_153905-resized.jpg  \n",
            "  inflating: image_dataset/outdoor/20230601_153908-resized.jpg  \n",
            "  inflating: image_dataset/outdoor/20230601_153934-resized.jpg  \n",
            "  inflating: image_dataset/outdoor/20230601_153936-resized.jpg  \n",
            "  inflating: image_dataset/outdoor/20230601_153937-resized.jpg  \n",
            "  inflating: image_dataset/outdoor/20230601_154023-resized.jpg  \n",
            "  inflating: image_dataset/outdoor/20230601_154024-resized.jpg  \n",
            "  inflating: image_dataset/outdoor/20230601_154026-resized.jpg  \n",
            "  inflating: image_dataset/outdoor/20230601_154027-resized.jpg  \n",
            "  inflating: image_dataset/outdoor/20230601_154033-resized.jpg  \n",
            "  inflating: image_dataset/outdoor/20230601_154156-resized.jpg  \n",
            "  inflating: image_dataset/outdoor/20230601_154158-resized.jpg  \n",
            "  inflating: image_dataset/outdoor/20230601_154202-resized.jpg  \n",
            "  inflating: image_dataset/outdoor/20230601_154203-resized.jpg  \n",
            "  inflating: image_dataset/outdoor/20230601_154204-resized.jpg  \n",
            "  inflating: image_dataset/outdoor/20230601_154205-resized.jpg  \n",
            "  inflating: image_dataset/outdoor/20230601_154206-resized.jpg  \n",
            "  inflating: image_dataset/outdoor/20230601_154207-resized.jpg  \n",
            "  inflating: image_dataset/outdoor/20230601_154210-resized.jpg  \n",
            "  inflating: image_dataset/outdoor/20230601_154214-resized.jpg  \n",
            "  inflating: image_dataset/outdoor/20230601_154217-resized.jpg  \n",
            "  inflating: image_dataset/outdoor/20230601_154218-resized.jpg  \n",
            "  inflating: image_dataset/outdoor/20230601_154525-resized.jpg  \n",
            "  inflating: image_dataset/outdoor/20230601_154526-resized.jpg  \n",
            "  inflating: image_dataset/outdoor/20230601_154530-resized.jpg  \n",
            "  inflating: image_dataset/outdoor/20230601_154532-resized.jpg  \n",
            "  inflating: image_dataset/outdoor/20230601_154534-resized.jpg  \n",
            "  inflating: image_dataset/outdoor/20230601_154535-resized.jpg  \n",
            "  inflating: image_dataset/outdoor/20230601_154559-resized.jpg  \n",
            "  inflating: image_dataset/outdoor/20230601_154600-resized.jpg  \n",
            "  inflating: image_dataset/outdoor/20230601_154602-resized.jpg  \n",
            "  inflating: image_dataset/outdoor/20230601_154610-resized.jpg  \n",
            "  inflating: image_dataset/outdoor/20230601_154736-resized.jpg  \n",
            "  inflating: image_dataset/outdoor/20230601_154737-resized.jpg  \n",
            "  inflating: image_dataset/outdoor/20230601_154738-resized.jpg  \n",
            "  inflating: image_dataset/outdoor/20230601_170523-resized.jpg  \n",
            "  inflating: image_dataset/outdoor/20230601_170552-resized.jpg  \n",
            "  inflating: image_dataset/outdoor/20230601_170555-resized.jpg  \n",
            "  inflating: image_dataset/outdoor/20230601_170559-resized.jpg  \n",
            "  inflating: image_dataset/outdoor/20230601_170712-resized.jpg  \n",
            "  inflating: image_dataset/outdoor/20230601_170716-resized.jpg  \n",
            "  inflating: image_dataset/outdoor/20230601_170719-resized.jpg  \n",
            "  inflating: image_dataset/outdoor/20230601_170721-resized.jpg  \n",
            "  inflating: image_dataset/outdoor/20230601_170754-resized.jpg  \n",
            "  inflating: image_dataset/outdoor/20230601_170756-resized.jpg  \n",
            "  inflating: image_dataset/outdoor/20230601_170759-resized.jpg  \n",
            "  inflating: image_dataset/outdoor/20230601_170811-resized.jpg  \n",
            "  inflating: image_dataset/outdoor/20230601_170823-resized.jpg  \n",
            "  inflating: image_dataset/outdoor/20230601_170826-resized.jpg  \n",
            "  inflating: image_dataset/outdoor/20230601_170832-resized.jpg  \n",
            "  inflating: image_dataset/outdoor/20230601_170841-resized.jpg  \n",
            "  inflating: image_dataset/outdoor/20230601_170846-resized.jpg  \n",
            "  inflating: image_dataset/outdoor/20230601_170910-resized.jpg  \n",
            "  inflating: image_dataset/outdoor/20230601_170914-resized.jpg  \n",
            "  inflating: image_dataset/outdoor/20230601_170918-resized.jpg  \n",
            "  inflating: image_dataset/outdoor/20230601_170923-resized.jpg  \n",
            "  inflating: image_dataset/outdoor/20230601_170926-resized.jpg  \n",
            "  inflating: image_dataset/outdoor/20230601_170938-resized.jpg  \n",
            "  inflating: image_dataset/outdoor/20230601_170940-resized.jpg  \n",
            "  inflating: image_dataset/outdoor/20230601_170943-resized.jpg  \n",
            "  inflating: image_dataset/outdoor/20230601_170946-resized.jpg  \n",
            "  inflating: image_dataset/outdoor/20230601_170953-resized.jpg  \n",
            "  inflating: image_dataset/outdoor/20230601_170955-resized.jpg  \n",
            "  inflating: image_dataset/outdoor/20230601_171004-resized.jpg  \n",
            "  inflating: image_dataset/outdoor/20230601_171028-resized.jpg  \n",
            "  inflating: image_dataset/outdoor/20230601_171032-resized.jpg  \n",
            "  inflating: image_dataset/outdoor/20230601_171033-resized.jpg  \n",
            "  inflating: image_dataset/outdoor/20230601_171038-resized.jpg  \n",
            "  inflating: image_dataset/outdoor/20230601_171049-resized.jpg  \n",
            "  inflating: image_dataset/outdoor/20230601_171054-resized.jpg  \n",
            "  inflating: image_dataset/outdoor/20230601_171107-resized.jpg  \n",
            "  inflating: image_dataset/outdoor/20230601_171112-resized.jpg  \n",
            "  inflating: image_dataset/outdoor/20230601_171118-resized.jpg  \n",
            "  inflating: image_dataset/outdoor/20230601_171129-resized.jpg  \n",
            "  inflating: image_dataset/outdoor/20230601_171133-resized.jpg  \n",
            "  inflating: image_dataset/outdoor/20230601_171221-resized.jpg  \n",
            "  inflating: image_dataset/outdoor/20230601_171224-resized.jpg  \n",
            "  inflating: image_dataset/outdoor/20230601_171227-resized.jpg  \n",
            "  inflating: image_dataset/outdoor/20230601_171229-resized.jpg  \n",
            "  inflating: image_dataset/outdoor/20230601_171308-resized.jpg  \n",
            "  inflating: image_dataset/outdoor/20230601_171314-resized.jpg  \n",
            "  inflating: image_dataset/outdoor/20230601_171336-resized.jpg  \n",
            "  inflating: image_dataset/outdoor/20230601_171345-resized.jpg  \n",
            "  inflating: image_dataset/outdoor/20230606_085416-resized.jpg  \n",
            "  inflating: image_dataset/outdoor/20230606_085419-resized.jpg  \n",
            "  inflating: image_dataset/outdoor/20230606_085423-resized.jpg  \n",
            "  inflating: image_dataset/outdoor/20230606_085427-resized.jpg  \n",
            "  inflating: image_dataset/outdoor/20230606_180924-resized.jpg  \n",
            "  inflating: image_dataset/outdoor/20230606_182517-resized.jpg  \n",
            "  inflating: image_dataset/outdoor/20230606_182615-resized.jpg  \n",
            "  inflating: image_dataset/outdoor/20230606_182618-resized.jpg  \n",
            "  inflating: image_dataset/outdoor/20230606_182640-resized.jpg  \n",
            "  inflating: image_dataset/outdoor/20230606_182713-resized.jpg  \n",
            "  inflating: image_dataset/outdoor/20230606_182716-resized.jpg  \n",
            "  inflating: image_dataset/outdoor/20230606_182749-resized.jpg  \n",
            "  inflating: image_dataset/outdoor/20230606_183151-resized.jpg  \n",
            "  inflating: image_dataset/outdoor/20230606_183155-resized.jpg  \n",
            "  inflating: image_dataset/outdoor/20230606_183157-resized.jpg  \n",
            "  inflating: image_dataset/outdoor/20230606_183204-resized.jpg  \n",
            "  inflating: image_dataset/outdoor/20230606_183206-resized.jpg  \n",
            "  inflating: image_dataset/outdoor/20230606_193855-resized.jpg  \n",
            "  inflating: image_dataset/outdoor/20230606_200000-resized.jpg  \n",
            "  inflating: image_dataset/outdoor/20230606_210139-resized.jpg  \n",
            "  inflating: image_dataset/outdoor/20230606_210728-resized.jpg  \n",
            "  inflating: image_dataset/outdoor/20230607_103112-resized.jpg  \n",
            "  inflating: image_dataset/outdoor/20230607_103116-resized.jpg  \n",
            "  inflating: image_dataset/outdoor/20230607_103119-resized.jpg  \n",
            "  inflating: image_dataset/outdoor/20230607_103121-resized.jpg  \n",
            "  inflating: image_dataset/outdoor/20230607_103123-resized.jpg  \n",
            "  inflating: image_dataset/outdoor/20230607_103125-resized.jpg  \n",
            "  inflating: image_dataset/outdoor/20230607_103127-resized.jpg  \n",
            "  inflating: image_dataset/outdoor/20230607_103132-resized.jpg  \n",
            "  inflating: image_dataset/outdoor/20230607_103136-resized.jpg  \n",
            "  inflating: image_dataset/outdoor/20230607_103138-resized.jpg  \n",
            "  inflating: image_dataset/outdoor/20230607_103141-resized.jpg  \n",
            "  inflating: image_dataset/outdoor/20230607_103143-resized.jpg  \n",
            "  inflating: image_dataset/outdoor/20230607_103213-resized.jpg  \n",
            "  inflating: image_dataset/outdoor/20230607_103221-resized.jpg  \n",
            "  inflating: image_dataset/outdoor/20230607_103229-resized.jpg  \n",
            "  inflating: image_dataset/outdoor/20230607_103258-resized.jpg  \n",
            "  inflating: image_dataset/outdoor/20230607_103300-resized.jpg  \n",
            "  inflating: image_dataset/outdoor/20230607_103304-resized.jpg  \n",
            "  inflating: image_dataset/outdoor/20230610_104313-resized.jpg  \n",
            "  inflating: image_dataset/outdoor/20230614_102802-resized.jpg  \n",
            "  inflating: image_dataset/outdoor/20230614_102810-resized.jpg  \n",
            "  inflating: image_dataset/outdoor/20230614_102812-resized.jpg  \n",
            "  inflating: image_dataset/outdoor/20230614_102814-resized.jpg  \n",
            "  inflating: image_dataset/outdoor/20230614_102818-resized.jpg  \n",
            "  inflating: image_dataset/outdoor/20230614_102820-resized.jpg  \n",
            "  inflating: image_dataset/outdoor/20230614_171144-resized.jpg  \n",
            "  inflating: image_dataset/outdoor/20230614_171146-resized.jpg  \n",
            "  inflating: image_dataset/outdoor/20230614_171150-resized.jpg  \n",
            "  inflating: image_dataset/outdoor/20230614_171153-resized.jpg  \n",
            "  inflating: image_dataset/outdoor/20230614_171156-resized.jpg  \n",
            "  inflating: image_dataset/outdoor/cLmZ7zRABZ6npaRdKtt872bCJlh8Af8B_XT6r81hHMs=_plaintext_638231902140698877.jpg  \n",
            "  inflating: image_dataset/outdoor/IMG-20230604-WA0002-resized.jpg  \n",
            "  inflating: image_dataset/outdoor/IMG-20230606-WA0002-resized.jpg  \n",
            "  inflating: image_dataset/outdoor/IMG-20230619-WA0002.jpg  \n",
            "  inflating: image_dataset/outdoor/IMG-20230619-WA0007.jpg  \n",
            "  inflating: image_dataset/outdoor/IMG-20230619-WA0008.jpg  \n",
            "  inflating: image_dataset/outdoor/IMG-20230619-WA0009.jpg  \n",
            "  inflating: image_dataset/outdoor/IMG-20230619-WA0014.jpg  \n",
            "  inflating: image_dataset/outdoor/IMG-20230619-WA0025.jpg  \n",
            "  inflating: image_dataset/outdoor/IMG-20230619-WA0026.jpg  \n",
            "  inflating: image_dataset/outdoor/IMG-20230619-WA0027.jpg  \n",
            "  inflating: image_dataset/outdoor/IMG-20230619-WA0028.jpg  \n",
            "  inflating: image_dataset/outdoor/IMG-20230619-WA0029.jpg  \n",
            "  inflating: image_dataset/outdoor/IMG-20230619-WA0044.jpg  \n",
            "  inflating: image_dataset/outdoor/IMG-20230619-WA0047.jpg  \n",
            "  inflating: image_dataset/outdoor/IMG-20230619-WA0049.jpg  \n",
            "  inflating: image_dataset/outdoor/IMG-20230619-WA0066.jpg  \n",
            "  inflating: image_dataset/outdoor/IMG-20230619-WA0076.jpg  \n",
            "  inflating: image_dataset/outdoor/IMG-20230619-WA0077.jpg  \n",
            "  inflating: image_dataset/outdoor/IMG-20230619-WA0080.jpg  \n",
            "  inflating: image_dataset/outdoor/IMG-20230619-WA0081.jpg  \n",
            "  inflating: image_dataset/outdoor/IMG-20230619-WA0084.jpg  \n",
            "  inflating: image_dataset/outdoor/IMG-20230619-WA0085.jpg  \n",
            "  inflating: image_dataset/outdoor/IMG-20230619-WA0086.jpg  \n",
            "  inflating: image_dataset/outdoor/IMG-20230619-WA0087.jpg  \n",
            "  inflating: image_dataset/outdoor/IMG-20230619-WA0088.jpg  \n",
            "  inflating: image_dataset/outdoor/IMG-20230619-WA0089.jpg  \n",
            "  inflating: image_dataset/outdoor/IMG-20230619-WA0090.jpg  \n",
            "  inflating: image_dataset/outdoor/IMG-20230619-WA0117.jpg  \n",
            "  inflating: image_dataset/outdoor/IMG-20230619-WA0118.jpg  \n",
            "  inflating: image_dataset/outdoor/IMG-20230619-WA0119.jpg  \n",
            "  inflating: image_dataset/outdoor/IMG-20230619-WA0121.jpg  \n",
            "  inflating: image_dataset/outdoor/IMG-20230619-WA0123.jpg  \n",
            "  inflating: image_dataset/outdoor/IMG-20230619-WA0124.jpg  \n",
            "  inflating: image_dataset/outdoor/IMG-20230619-WA0125.jpg  \n",
            "  inflating: image_dataset/outdoor/IMG-20230619-WA0126.jpg  \n",
            "  inflating: image_dataset/outdoor/IMG-20230619-WA0127.jpg  \n",
            "  inflating: image_dataset/outdoor/IMG-20230619-WA0128.jpg  \n",
            "  inflating: image_dataset/outdoor/IMG-20230619-WA0129.jpg  \n",
            "  inflating: image_dataset/outdoor/IMG-20230619-WA0130.jpg  \n",
            "  inflating: image_dataset/outdoor/IMG-20230619-WA0131.jpg  \n",
            "  inflating: image_dataset/outdoor/IMG-20230619-WA0132.jpg  \n",
            "  inflating: image_dataset/outdoor/IMG-20230619-WA0134.jpg  \n",
            "  inflating: image_dataset/outdoor/IMG-20230619-WA0136.jpg  \n",
            "  inflating: image_dataset/outdoor/IMG-20230619-WA0137.jpg  \n",
            "  inflating: image_dataset/outdoor/IMG-20230619-WA0138.jpg  \n",
            "  inflating: image_dataset/outdoor/IMG-20230619-WA0139.jpg  \n",
            "  inflating: image_dataset/outdoor/IMG-20230619-WA0140.jpg  \n",
            "  inflating: image_dataset/outdoor/IMG-20230619-WA0147.jpg  \n",
            "  inflating: image_dataset/outdoor/IMG-20230624-WA0003.jpg  \n",
            "  inflating: image_dataset/outdoor/IMG-20230624-WA0004.jpg  \n",
            "  inflating: image_dataset/outdoor/IMG-20230624-WA0005.jpg  \n",
            "  inflating: image_dataset/outdoor/IMG-20230624-WA0006.jpg  \n",
            "  inflating: image_dataset/outdoor/IMG-20230624-WA0007.jpg  \n",
            "  inflating: image_dataset/outdoor/IMG-20230624-WA0008.jpg  \n",
            "  inflating: image_dataset/outdoor/IMG-20230624-WA0009.jpg  \n",
            " extracting: image_dataset/outdoor/IMG-20230624-WA0010.jpg  \n",
            "  inflating: image_dataset/outdoor/IMG-20230624-WA0011.jpg  \n",
            "  inflating: image_dataset/outdoor/IMG-20230624-WA0012.jpg  \n",
            "  inflating: image_dataset/outdoor/IMG-20230624-WA0013.jpg  \n",
            "  inflating: image_dataset/outdoor/IMG-20230624-WA0014.jpg  \n",
            "  inflating: image_dataset/outdoor/IMG-20230624-WA0015.jpg  \n",
            "  inflating: image_dataset/outdoor/IMG-20230624-WA0016.jpg  \n",
            "  inflating: image_dataset/outdoor/IMG-20230624-WA0017.jpg  \n",
            "  inflating: image_dataset/outdoor/IMG-20230624-WA0018.jpg  \n",
            "  inflating: image_dataset/outdoor/IMG-20230624-WA0019.jpg  \n",
            "  inflating: image_dataset/outdoor/IMG-20230624-WA0020.jpg  \n",
            "  inflating: image_dataset/outdoor/IMG-20230624-WA0021.jpg  \n",
            "  inflating: image_dataset/outdoor/IMG-20230624-WA0022.jpg  \n",
            "  inflating: image_dataset/outdoor/IMG-20230624-WA0023.jpg  \n",
            " extracting: image_dataset/outdoor/IMG-20230624-WA0024.jpg  \n",
            "  inflating: image_dataset/outdoor/IMG-20230624-WA0025.jpg  \n",
            "  inflating: image_dataset/outdoor/IMG-20230624-WA0026.jpg  \n",
            "  inflating: image_dataset/outdoor/IMG-20230624-WA0027.jpg  \n",
            " extracting: image_dataset/outdoor/IMG-20230624-WA0028.jpg  \n",
            "  inflating: image_dataset/outdoor/IMG-20230624-WA0029.jpg  \n",
            " extracting: image_dataset/outdoor/IMG-20230624-WA0030.jpg  \n",
            "  inflating: image_dataset/outdoor/IMG-20230624-WA0031.jpg  \n",
            "  inflating: image_dataset/outdoor/IMG-20230624-WA0032.jpg  \n",
            "  inflating: image_dataset/outdoor/IMG-20230624-WA0033.jpg  \n",
            "  inflating: image_dataset/outdoor/IMG-20230624-WA0034.jpg  \n"
          ]
        }
      ],
      "source": [
        "# for colab\n",
        "!unzip image_dataset.zip"
      ]
    },
    {
      "cell_type": "code",
      "execution_count": 4,
      "metadata": {
        "id": "1Db7j3jdQIsm"
      },
      "outputs": [],
      "source": [
        "# # for jupyter\n",
        "# with zipfile.ZipFile('./image_dataset.zip', 'r') as zip_ref:\n",
        "#     zip_ref.extractall('./')"
      ]
    },
    {
      "cell_type": "code",
      "execution_count": 5,
      "metadata": {
        "id": "eMsKEkXTnGww"
      },
      "outputs": [],
      "source": [
        "# Path to the data folder\n",
        "data_dir = './image_dataset'"
      ]
    },
    {
      "cell_type": "markdown",
      "metadata": {
        "id": "k3BDbHaZIXtF"
      },
      "source": [
        "### **Rename images to sequential numbers**\n",
        "\n",
        "**This one have to be before loading the dataset**"
      ]
    },
    {
      "cell_type": "code",
      "execution_count": 6,
      "metadata": {
        "id": "yIsuuXjPIXWM"
      },
      "outputs": [],
      "source": [
        "# Rename images to sequential numbers\n",
        "# This one have to be before loading the dataset\n",
        "\n",
        "# Rename the files in each folder to numbers\n",
        "def rename_files(folder_path):\n",
        "    file_list = sorted(os.listdir(folder_path))\n",
        "    for i, file_name in enumerate(file_list):\n",
        "        file_path = os.path.join(folder_path, file_name)\n",
        "        new_file_name = f\"{i + 1:04d}.png\"  # Rename files as 0001.png, 0002.png, ...\n",
        "        new_file_path = os.path.join(folder_path, new_file_name)\n",
        "        os.rename(file_path, new_file_path)\n",
        "\n",
        "# Rename files in the \"indoor\" folder\n",
        "indoor_folder = os.path.join(data_dir, 'indoor')\n",
        "rename_files(indoor_folder)\n",
        "\n",
        "# Rename files in the \"outdoor\" folder\n",
        "outdoor_folder = os.path.join(data_dir, 'outdoor')\n",
        "rename_files(outdoor_folder)"
      ]
    },
    {
      "cell_type": "markdown",
      "metadata": {
        "id": "R2V02WHuG3W3"
      },
      "source": [
        "### **Change filetype to .png**"
      ]
    },
    {
      "cell_type": "code",
      "execution_count": 7,
      "metadata": {
        "id": "RcLUsaOcEzpj"
      },
      "outputs": [],
      "source": [
        "# Change filetype to .png\n",
        "\n",
        "# Define the subfolders\n",
        "indoor_dir = os.path.join(data_dir, 'indoor')\n",
        "outdoor_dir = os.path.join(data_dir, 'outdoor')\n",
        "\n",
        "# Convert images in the \"indoor\" folder\n",
        "for filename in os.listdir(indoor_dir):\n",
        "    if not filename.endswith('.png'):\n",
        "        image_path = os.path.join(indoor_dir, filename)\n",
        "        new_image_path = os.path.join(indoor_dir, os.path.splitext(filename)[0] + '.png')\n",
        "        img = Image.open(image_path)\n",
        "        img.save(new_image_path, 'PNG')\n",
        "        os.remove(image_path)\n",
        "\n",
        "# Convert images in the \"outdoor\" folder\n",
        "for filename in os.listdir(outdoor_dir):\n",
        "    if not filename.endswith('.png'):\n",
        "        image_path = os.path.join(outdoor_dir, filename)\n",
        "        new_image_path = os.path.join(outdoor_dir, os.path.splitext(filename)[0] + '.png')\n",
        "        img = Image.open(image_path)\n",
        "        img.save(new_image_path, 'PNG')\n",
        "        os.remove(image_path)\n"
      ]
    },
    {
      "cell_type": "markdown",
      "metadata": {
        "id": "kS8AGWrlHSD3"
      },
      "source": [
        "Check rename file and change file type"
      ]
    },
    {
      "cell_type": "code",
      "execution_count": 8,
      "metadata": {
        "id": "0PhD8MNaHTIi"
      },
      "outputs": [],
      "source": [
        "# # Check change file type\n",
        "# # Define the path to the \"outdoor\" folder\n",
        "# outdoor_dir = './image_dataset/outdoor'\n",
        "\n",
        "# # List the contents of the \"outdoor\" folder\n",
        "# file_list = os.listdir(outdoor_dir)\n",
        "\n",
        "# # Print the filenames\n",
        "# print(\"Contents of the 'outdoor' folder:\")\n",
        "# for filename in file_list:\n",
        "#     print(filename)"
      ]
    },
    {
      "cell_type": "markdown",
      "metadata": {
        "id": "l12VbXazMolA"
      },
      "source": [
        "### **Transforms**"
      ]
    },
    {
      "cell_type": "code",
      "execution_count": 9,
      "metadata": {
        "id": "8WueOQRiYwmm"
      },
      "outputs": [],
      "source": [
        "# Transforms\n",
        "# Separate transforms for training AND validation+test\n",
        "\n",
        "# Transforms for training data\n",
        "train_transform = transforms.Compose([\n",
        "    transforms.Resize((32, 32)),\n",
        "    transforms.RandomHorizontalFlip(),\n",
        "    transforms.ToTensor(),\n",
        "    transforms.Normalize((0.5, 0.5, 0.5), (0.5, 0.5, 0.5))\n",
        "])\n",
        "\n",
        "# Transforms for validation and testing data\n",
        "val_test_transform = transforms.Compose([\n",
        "    transforms.Resize((32, 32)),\n",
        "    transforms.RandomHorizontalFlip(),\n",
        "    transforms.ToTensor(),\n",
        "    transforms.Normalize((0.5, 0.5, 0.5), (0.5, 0.5, 0.5))\n",
        "])\n",
        "\n",
        "# Normalization does scaling\n",
        "  # Color [0, 255] to [0, 1]"
      ]
    },
    {
      "cell_type": "code",
      "execution_count": 10,
      "metadata": {
        "id": "jZ9oqYpy2qGq"
      },
      "outputs": [],
      "source": [
        "# Load the dataset\n",
        "# If error here, restart kernel and re-run\n",
        "dataset = ImageFolder(root = data_dir, transform = train_transform)"
      ]
    },
    {
      "cell_type": "markdown",
      "metadata": {
        "id": "NHoB9aTdH4Fr"
      },
      "source": [
        "### **Split dataset (Must be after change filetype to .png and rename)**"
      ]
    },
    {
      "cell_type": "code",
      "execution_count": 11,
      "metadata": {
        "id": "_gh4vFE-LrbX"
      },
      "outputs": [],
      "source": [
        "# Split train test validation\n",
        "# Path to the 'train', 'val', and 'test' folders for both classes\n",
        "train_folder_indoor = os.path.join(data_dir, 'train', 'indoor')\n",
        "val_folder_indoor = os.path.join(data_dir, 'val', 'indoor')\n",
        "test_folder_indoor = os.path.join(data_dir, 'test', 'indoor')\n",
        "train_folder_outdoor = os.path.join(data_dir, 'train', 'outdoor')\n",
        "val_folder_outdoor = os.path.join(data_dir, 'val', 'outdoor')\n",
        "test_folder_outdoor = os.path.join(data_dir, 'test', 'outdoor')"
      ]
    },
    {
      "cell_type": "code",
      "execution_count": 12,
      "metadata": {
        "id": "FFDz-qzSLvq7"
      },
      "outputs": [],
      "source": [
        "# Set the desired split ratios (e.g., 80% for training, 10% for validation, 10% for testing)\n",
        "# May change the ratio, e.g., 0.6, 0.2, 0.2; 0.7, 0.15, 0.15\n",
        "train_ratio = 0.8\n",
        "val_ratio = 0.1\n",
        "test_ratio = 0.1"
      ]
    },
    {
      "cell_type": "code",
      "execution_count": 13,
      "metadata": {
        "id": "0G2qARM6H6bK"
      },
      "outputs": [],
      "source": [
        "# Split dataset (Must be after change to .png and rename)\n",
        "# Split the dataset into training, validation, and testing sets\n",
        "dataset_size = len(dataset)\n",
        "train_size = int(train_ratio * dataset_size)\n",
        "val_size = int(val_ratio * dataset_size)\n",
        "test_size = dataset_size - train_size - val_size\n",
        "\n",
        "train_dataset, val_dataset, test_dataset = random_split(dataset, [train_size, val_size, test_size])"
      ]
    },
    {
      "cell_type": "code",
      "source": [
        "# Apply val_test_transform to validation and testing dataset\n",
        "val_dataset.dataset.transform = val_test_transform\n",
        "test_dataset.dataset.transform = val_test_transform"
      ],
      "metadata": {
        "id": "dzkPDrcL1w4s"
      },
      "execution_count": 14,
      "outputs": []
    },
    {
      "cell_type": "markdown",
      "metadata": {
        "id": "I5rTJyvpbLe_"
      },
      "source": [
        "### **Split**"
      ]
    },
    {
      "cell_type": "code",
      "execution_count": 15,
      "metadata": {
        "id": "M4Sf_Kn8kb7z"
      },
      "outputs": [],
      "source": [
        "train_dir = os.path.join(data_dir, 'train')\n",
        "val_dir = os.path.join(data_dir, 'val')\n",
        "test_dir = os.path.join(data_dir, 'test')\n",
        "\n",
        "train_dir_indoor = os.path.join(train_dir, 'indoor')\n",
        "val_dir_indoor = os.path.join(val_dir, 'indoor')\n",
        "test_dir_indoor = os.path.join(test_dir, 'indoor')\n",
        "\n",
        "train_dir_outdoor = os.path.join(train_dir, 'outdoor')\n",
        "val_dir_outdoor = os.path.join(val_dir, 'outdoor')\n",
        "test_dir_outdoor = os.path.join(test_dir, 'outdoor')"
      ]
    },
    {
      "cell_type": "code",
      "execution_count": 16,
      "metadata": {
        "id": "qeD868bIksf4"
      },
      "outputs": [],
      "source": [
        "# Still splitting, this is moving to the new folders\n",
        "\n",
        "# Create train, validation, and test directories if they don't exist\n",
        "os.makedirs(train_dir, exist_ok=True)\n",
        "os.makedirs(val_dir, exist_ok=True)\n",
        "os.makedirs(test_dir, exist_ok=True)\n",
        "\n",
        "os.makedirs(train_dir_indoor, exist_ok=True)\n",
        "os.makedirs(val_dir_indoor, exist_ok=True)\n",
        "os.makedirs(test_dir_indoor, exist_ok=True)\n",
        "\n",
        "os.makedirs(train_dir_outdoor, exist_ok=True)\n",
        "os.makedirs(val_dir_outdoor, exist_ok=True)\n",
        "os.makedirs(test_dir_outdoor, exist_ok=True)\n",
        "\n",
        "\n",
        "for filename in os.listdir(train_folder_indoor):\n",
        "    shutil.move(os.path.join(train_folder_indoor, filename), os.path.join(train_dir_indoor, os.path.basename(filename)))\n",
        "\n",
        "for filename in os.listdir(val_folder_indoor):\n",
        "    shutil.move(os.path.join(val_folder_indoor, filename), os.path.join(val_dir_indoor, os.path.basename(filename)))\n",
        "\n",
        "for filename in os.listdir(test_folder_indoor):\n",
        "    shutil.move(os.path.join(test_folder_indoor, filename), os.path.join(test_dir_indoor, os.path.basename(filename)))\n",
        "\n",
        "for filename in os.listdir(train_folder_outdoor):\n",
        "    shutil.move(os.path.join(train_folder_outdoor, filename), os.path.join(train_dir_outdoor, os.path.basename(filename)))\n",
        "\n",
        "for filename in os.listdir(val_folder_outdoor):\n",
        "    shutil.move(os.path.join(val_folder_outdoor, filename), os.path.join(val_dir_outdoor, os.path.basename(filename)))\n",
        "\n",
        "for filename in os.listdir(test_folder_outdoor):\n",
        "    shutil.move(os.path.join(test_folder_outdoor, filename), os.path.join(test_dir_outdoor, os.path.basename(filename)))"
      ]
    },
    {
      "cell_type": "markdown",
      "metadata": {
        "id": "16Oti1gabUw_"
      },
      "source": [
        "### **Define CNN model**"
      ]
    },
    {
      "cell_type": "code",
      "execution_count": 17,
      "metadata": {
        "id": "tMKnQj91THt3"
      },
      "outputs": [],
      "source": [
        "# Define CNN model\n",
        "class CNNModel(nn.Module):\n",
        "    def __init__(self):\n",
        "        super(CNNModel, self).__init__()\n",
        "        self.conv1 = nn.Conv2d(3, 6, 5)\n",
        "        self.pool = nn.MaxPool2d(2, 2)\n",
        "        self.conv2 = nn.Conv2d(6, 16, 5)\n",
        "        self.fc1 = nn.Linear(16 * 5 * 5, 120)\n",
        "        self.fc2 = nn.Linear(120, 84)\n",
        "        self.fc3 = nn.Linear(84, 2)\n",
        "\n",
        "    def forward(self, x):\n",
        "                                    # -> n, 3, 32, 32\n",
        "        x = F.relu(self.conv1(x))   # -> n, 6, 28, 28\n",
        "        x = self.pool(x)            # -> n, 6, 14, 14\n",
        "        x = F.relu(self.conv2(x))   # -> n, 16, 10, 10\n",
        "        x = self.pool(x)            # -> n, 16, 5, 5\n",
        "        x = x.view(-1, 16 * 5 * 5)  # -> n, 400\n",
        "        x = F.relu(self.fc1(x))     # -> n, 120\n",
        "        x = F.relu(self.fc2(x))     # -> n, 84\n",
        "        x = self.fc3(x)             # -> n, 2\n",
        "        return x"
      ]
    },
    {
      "cell_type": "code",
      "execution_count": 18,
      "metadata": {
        "id": "MT1FKDFigb2a"
      },
      "outputs": [],
      "source": [
        "# Create an instance of the CNN model\n",
        "model = CNNModel()\n",
        "model = model.to(device)"
      ]
    },
    {
      "cell_type": "code",
      "execution_count": 19,
      "metadata": {
        "id": "h7o6Ccx6QY8n"
      },
      "outputs": [],
      "source": [
        "# Define the loss function and optimizer\n",
        "criterion = nn.CrossEntropyLoss()\n",
        "optimizer = optim.SGD(model.parameters(), lr=0.001, momentum=0.9)  # Momentum to incorporate the gradients from the previous iterations"
      ]
    },
    {
      "cell_type": "markdown",
      "metadata": {
        "id": "SPjN8P2ebHfU"
      },
      "source": [
        "### **Define Dataloaders**"
      ]
    },
    {
      "cell_type": "code",
      "execution_count": 20,
      "metadata": {
        "id": "_mpOUmkvNIFH"
      },
      "outputs": [],
      "source": [
        "# Define the data loaders\n",
        "batch_size = 5\n",
        "train_loader = DataLoader(train_dataset, batch_size=batch_size, shuffle=True, pin_memory = True)\n",
        "val_loader = DataLoader(val_dataset, batch_size=batch_size, pin_memory = True)\n",
        "test_loader = DataLoader(test_dataset, batch_size=batch_size, pin_memory = True)"
      ]
    },
    {
      "cell_type": "markdown",
      "metadata": {
        "id": "nV3aXeynsiU4"
      },
      "source": [
        "### *Define unnormalization, display image*"
      ]
    },
    {
      "cell_type": "code",
      "execution_count": 21,
      "metadata": {
        "id": "S4hAAJxjsh1y"
      },
      "outputs": [],
      "source": [
        "# Unnormalize function to convert normalized tensor back to image\n",
        "def unnormalize(image):\n",
        "    mean = torch.tensor([0.5, 0.5, 0.5], device=device)\n",
        "    std = torch.tensor([0.5, 0.5, 0.5], device=device)\n",
        "    image = image * std.view(3, 1, 1) + mean.view(3, 1, 1)  # Reshape std tensor to 3, 1, 1 [C, H, W] in order to perform element-wise multiplication with image\n",
        "    return image\n",
        "\n",
        "# Display a sample image with labels (label and predicted)\n",
        "def display_image(image, label, predicted):\n",
        "    label_names = [\"indoor\", \"outdoor\"]\n",
        "    image = unnormalize(image)  # Unnormalize the image\n",
        "    image = image.permute(1, 2, 0)  # Convert from (C, H, W) to (H, W, C), use permute (similar to transpose)\n",
        "    # Convert tensor to numpy array and ensure the values are in range [0, 1]\n",
        "    image_np = image.cpu().numpy()\n",
        "    image_np = np.clip(image_np, 0, 1)\n",
        "    return image_np, label_names[label], label_names[predicted]"
      ]
    },
    {
      "cell_type": "markdown",
      "metadata": {
        "id": "K_X8VFavl5sD"
      },
      "source": [
        "### **Training**"
      ]
    },
    {
      "cell_type": "code",
      "execution_count": 22,
      "metadata": {
        "id": "191b1aTSZ6XS",
        "colab": {
          "base_uri": "https://localhost:8080/",
          "height": 1000
        },
        "outputId": "e402ee1a-0e26-4208-802e-c6319dbdcc56"
      },
      "outputs": [
        {
          "output_type": "stream",
          "name": "stdout",
          "text": [
            "Epoch [30/120], Loss: 0.4200264953542501, Accuracy: 0.8100208768267223\n"
          ]
        },
        {
          "output_type": "display_data",
          "data": {
            "text/plain": [
              "<Figure size 1500x300 with 5 Axes>"
            ],
            "image/png": "[encoded data removed]"
          },
          "metadata": {}
        },
        {
          "output_type": "stream",
          "name": "stdout",
          "text": [
            "Epoch [60/120], Loss: 0.20050829249407798, Accuracy: 0.9248434237995825\n"
          ]
        },
        {
          "output_type": "display_data",
          "data": {
            "text/plain": [
              "<Figure size 1500x300 with 5 Axes>"
            ],
            "image/png": "[encoded data removed]"
          },
          "metadata": {}
        },
        {
          "output_type": "stream",
          "name": "stdout",
          "text": [
            "Epoch [90/120], Loss: 0.0708504233888713, Accuracy: 0.9707724425887265\n"
          ]
        },
        {
          "output_type": "display_data",
          "data": {
            "text/plain": [
              "<Figure size 1500x300 with 5 Axes>"
            ],
            "image/png": "[encoded data removed]"
          },
          "metadata": {}
        },
        {
          "output_type": "stream",
          "name": "stdout",
          "text": [
            "Epoch [120/120], Loss: 0.0013259367792839427, Accuracy: 1.0\n"
          ]
        },
        {
          "output_type": "display_data",
          "data": {
            "text/plain": [
              "<Figure size 1500x300 with 5 Axes>"
            ],
            "image/png": "[encoded data removed]"
          },
          "metadata": {}
        },
        {
          "output_type": "display_data",
          "data": {
            "text/plain": [
              "<Figure size 640x480 with 1 Axes>"
            ],
            "image/png": "[encoded data removed]"
          },
          "metadata": {}
        },
        {
          "output_type": "display_data",
          "data": {
            "text/plain": [
              "<Figure size 640x480 with 1 Axes>"
            ],
            "image/png": "[encoded data removed]"
          },
          "metadata": {}
        }
      ],
      "source": [
        "import matplotlib.pyplot as plt\n",
        "\n",
        "# Array storing the labels\n",
        "true_labels = []\n",
        "predicted_labels = []\n",
        "labels = [\"indoor\", \"outdoor\"]  # For class_weights\n",
        "\n",
        "# Probability distribution\n",
        "class_weights = torch.tensor([1.0 / labels.count(label) for label in set(labels)])\n",
        "class_weights = class_weights.to(device)\n",
        "# Define the criterion\n",
        "criterion = nn.CrossEntropyLoss(weight = class_weights)\n",
        "\n",
        "# (w/ unnormalization)\n",
        "# Training loop (Training datasets)\n",
        "num_epochs = 120\n",
        "loss_list = []\n",
        "accuracy_list = []\n",
        "\n",
        "for epoch in range(num_epochs):\n",
        "    running_loss = 0.0\n",
        "    correct_predictions = 0\n",
        "    total_predictions = 0\n",
        "\n",
        "    for i, (images, labels) in enumerate(train_loader):\n",
        "        images = images.to(device)\n",
        "        labels = labels.to(device)\n",
        "\n",
        "        # Forward pass\n",
        "        outputs = model(images)\n",
        "        # Compute loss\n",
        "        loss = criterion(outputs, labels)\n",
        "        # Perform backward pass and optimize\n",
        "        optimizer.zero_grad()\n",
        "        loss.backward()\n",
        "        optimizer.step()\n",
        "\n",
        "        running_loss += loss.item()\n",
        "\n",
        "        # Store true labels and predicted labels\n",
        "        true_labels.extend(labels.tolist())\n",
        "        predicted_labels.extend(torch.argmax(outputs, dim=1).tolist())\n",
        "\n",
        "        # Count correct predictions\n",
        "        correct_predictions += torch.sum(torch.argmax(outputs, dim=1) == labels).item()\n",
        "        total_predictions += labels.size(0)\n",
        "\n",
        "    # Calculate accuracy for the epoch\n",
        "    epoch_loss = running_loss / len(train_loader)\n",
        "    epoch_accuracy = correct_predictions / total_predictions\n",
        "    loss_list.append(epoch_loss)\n",
        "    accuracy_list.append(epoch_accuracy)\n",
        "\n",
        "    if (epoch + 1) % 30 == 0:\n",
        "        print(f\"Epoch [{epoch+1}/{num_epochs}], Loss: {epoch_loss}, Accuracy: {epoch_accuracy}\")\n",
        "\n",
        "        # Display a sample image with labels\n",
        "        sample_images, sample_labels = next(iter(train_loader))\n",
        "        sample_images = sample_images.to(device)\n",
        "        sample_labels = sample_labels.to(device)\n",
        "        sample_outputs = model(sample_images)\n",
        "        _, sample_predicted = torch.max(sample_outputs.data, 1)\n",
        "\n",
        "        # Create a single figure with subplots\n",
        "        fig, axes = plt.subplots(1, len(sample_images), figsize=(len(sample_images) * 3, 3))\n",
        "\n",
        "        # Iterate over the images and display them in subplots\n",
        "        for i, (image, label, predicted) in enumerate(zip(sample_images, sample_labels, sample_predicted)):\n",
        "            image_np, label, predicted = display_image(image, label, predicted)\n",
        "            axes[i].imshow(image_np)\n",
        "            axes[i].axis('off')\n",
        "            axes[i].set_title(f\"L: {label}, P: {predicted}\")\n",
        "\n",
        "        plt.show()\n",
        "\n",
        "# Plotting the accuracy vs number of epochs\n",
        "plt.plot(range(1, num_epochs + 1), accuracy_list)\n",
        "plt.xlabel('Epoch')\n",
        "plt.ylabel('Accuracy')\n",
        "plt.title('Accuracy vs Number of Epochs')\n",
        "plt.show()\n",
        "\n",
        "plt.plot(range(1, num_epochs + 1), loss_list)\n",
        "plt.xlabel('Epoch')\n",
        "plt.ylabel('Loss')\n",
        "plt.title('Loss vs Number of Epochs')\n",
        "plt.tight_layout()\n",
        "plt.show()"
      ]
    },
    {
      "cell_type": "code",
      "source": [
        "# Perfomance metrics\n",
        "precision = precision_score(true_labels, predicted_labels, average='weighted')\n",
        "recall = recall_score(true_labels, predicted_labels, average='weighted')\n",
        "f1 = f1_score(true_labels, predicted_labels, average='weighted')\n",
        "\n",
        "print(f\"Precision: {precision:.2f}\")\n",
        "print(f\"Recall: {recall:.2f}\")\n",
        "print(f\"F1 Score: {f1:.2f}\")"
      ],
      "metadata": {
        "id": "kYbuI9oNQizl",
        "colab": {
          "base_uri": "https://localhost:8080/"
        },
        "outputId": "5c1e3cdf-b4a8-4260-ee85-ac5058eb1e00"
      },
      "execution_count": 23,
      "outputs": [
        {
          "output_type": "stream",
          "name": "stdout",
          "text": [
            "Precision: 0.88\n",
            "Recall: 0.88\n",
            "F1 Score: 0.88\n"
          ]
        }
      ]
    },
    {
      "cell_type": "code",
      "execution_count": 24,
      "metadata": {
        "id": "9Hvbw-k0aGGK",
        "colab": {
          "base_uri": "https://localhost:8080/"
        },
        "outputId": "4f703540-ce5a-4229-e669-fadd7ffca495"
      },
      "outputs": [
        {
          "output_type": "stream",
          "name": "stdout",
          "text": [
            "42 correct labels over 59 samples\n",
            "Network Accuracy: 71.1864406779661%\n",
            "Precision: 0.88\n",
            "Recall: 0.88\n",
            "F1 Score: 0.88\n"
          ]
        }
      ],
      "source": [
        "# Evaluation on test/validation data\n",
        "model.eval()\n",
        "total_correct = 0\n",
        "total_samples = 0\n",
        "\n",
        "with torch.no_grad():\n",
        "    for images, labels in val_loader:\n",
        "        images = images.to(device)\n",
        "        labels = labels.to(device)\n",
        "        outputs = model(images)\n",
        "        _, predicted = torch.max(outputs.data, 1)\n",
        "        total_samples += labels.size(0)\n",
        "        total_correct += (predicted == labels).sum().item()\n",
        "\n",
        "        # Store true labels and predicted labels\n",
        "        true_labels.extend(labels.tolist())\n",
        "        predicted_labels.extend(predicted.tolist())\n",
        "\n",
        "print(f\"{total_correct} correct labels over {total_samples} samples\")\n",
        "\n",
        "accuracy = (total_correct / total_samples) * 100\n",
        "print(f\"Network Accuracy: {accuracy}%\")\n",
        "\n",
        "# Calculate precision, recall, F1 score\n",
        "precision = precision_score(true_labels, predicted_labels, average='weighted')\n",
        "recall = recall_score(true_labels, predicted_labels, average='weighted')\n",
        "f1 = f1_score(true_labels, predicted_labels, average='weighted')\n",
        "\n",
        "print(f\"Precision: {precision:.2f}\")\n",
        "print(f\"Recall: {recall:.2f}\")\n",
        "print(f\"F1 Score: {f1:.2f}\")"
      ]
    },
    {
      "cell_type": "code",
      "execution_count": 25,
      "metadata": {
        "id": "BD2RpGpP7SBB",
        "colab": {
          "base_uri": "https://localhost:8080/"
        },
        "outputId": "b4199c8d-4a30-47c3-b7b0-2c794273864f"
      },
      "outputs": [
        {
          "output_type": "stream",
          "name": "stdout",
          "text": [
            "For class indoor: 21 correct labels over 30 samples\n",
            "Accuracy for class indoor: 70.00%\n",
            "\n",
            "For class outdoor: 22 correct labels over 29 samples\n",
            "Accuracy for class outdoor: 75.86%\n",
            "\n"
          ]
        }
      ],
      "source": [
        "# Accuracy for each class\n",
        "# Evaluation on test/validation data (Each class)\n",
        "model.eval()\n",
        "class_correct = [0, 0]  # Initialize counters for correct predictions per class\n",
        "class_total = [0, 0]  # Initialize counters for total samples per class\n",
        "\n",
        "with torch.no_grad():\n",
        "    for images, labels in val_loader:\n",
        "        images = images.to(device)\n",
        "        labels = labels.to(device)\n",
        "        outputs = model(images)\n",
        "        _, predicted = torch.max(outputs.data, 1)\n",
        "        batch_size = labels.size(0)\n",
        "\n",
        "        # Update counters for each class\n",
        "        for i in range(batch_size):\n",
        "            label = labels[i]\n",
        "            prediction = predicted[i]\n",
        "            if label == prediction:\n",
        "                class_correct[label] += 1\n",
        "            class_total[label] += 1\n",
        "\n",
        "# Calculate accuracy for each class\n",
        "class_accuracy = [class_correct[i] / class_total[i] * 100 for i in range(len(class_correct))]\n",
        "\n",
        "# Display accuracy for each class\n",
        "classes = ['indoor', 'outdoor']\n",
        "for i in range(len(classes)):\n",
        "    print(f\"For class {classes[i]}: {class_correct[i]} correct labels over {class_total[i]} samples\")\n",
        "    print(f\"Accuracy for class {classes[i]}: {class_accuracy[i]:.2f}%\\n\")\n"
      ]
    }
  ],
  "metadata": {
    "accelerator": "GPU",
    "colab": {
      "provenance": [],
      "gpuType": "T4"
    },
    "kernelspec": {
      "display_name": "Python 3",
      "name": "python3"
    },
    "language_info": {
      "codemirror_mode": {
        "name": "ipython",
        "version": 3
      },
      "file_extension": ".py",
      "mimetype": "text/x-python",
      "name": "python",
      "nbconvert_exporter": "python",
      "pygments_lexer": "ipython3",
      "version": "3.9.12"
    }
  },
  "nbformat": 4,
  "nbformat_minor": 0
}